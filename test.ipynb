{
 "cells": [
  {
   "cell_type": "code",
   "execution_count": null,
   "id": "b165e4ef",
   "metadata": {},
   "outputs": [
    {
     "name": "stdout",
     "output_type": "stream",
     "text": [
      "請輸入第一個整數\n"
     ]
    }
   ],
   "source": [
    "print(\"請輸入第一個整數\")\n",
    "a = input()\n",
    "a = float(a)\n",
    "print(\"請輸入第二個整數\")\n",
    "b = input()\n",
    "b = float(b)\n",
    "print(\"總合是：\",a + b)"
   ]
  },
  {
   "cell_type": "code",
   "execution_count": null,
   "id": "87d72cc6",
   "metadata": {},
   "outputs": [],
   "source": []
  }
 ],
 "metadata": {
  "kernelspec": {
   "display_name": "Python 3 (ipykernel)",
   "language": "python",
   "name": "python3"
  },
  "language_info": {
   "codemirror_mode": {
    "name": "ipython",
    "version": 3
   },
   "file_extension": ".py",
   "mimetype": "text/x-python",
   "name": "python",
   "nbconvert_exporter": "python",
   "pygments_lexer": "ipython3",
   "version": "3.10.9"
  }
 },
 "nbformat": 4,
 "nbformat_minor": 5
}
